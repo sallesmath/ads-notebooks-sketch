{
 "cells": [
  {
   "cell_type": "code",
   "execution_count": null,
   "id": "395fd9e6",
   "metadata": {},
   "outputs": [],
   "source": [
    "#We saw how to adapt dynamic programming to find approximate occurrences of a pattern in a text. Recall that:\n",
    "\n",
    "#Rows of the dynamic programming matrix are labeled with bases from P and columns with bases from T\n",
    "\n",
    "#Elements in the first row are set to 0\n",
    "\n",
    "#Elements in the first column are set to 0, 1, 2, ..., as for edit distance\n",
    "\n",
    "#Other elements are set in the same way as elements of a standard edit distance matrix\n",
    "\n",
    "#The minimal value in the bottom row is the edit distance of the closest match between P and T\n",
    "\n",
    "#First, download the provided excerpt of human chromosome 1\n",
    "\n",
    "#https://d28rh4a8wq0iu5.cloudfront.net/ads1/data/chr1.GRCh38.excerpt.fasta\n",
    "\n",
    "#Second, parse it using the readGenome function we wrote before.\n",
    "\n",
    "#Third, adapt the editDistance function we saw in practical (copied below) to answer questions 1 and 2 below.\n",
    "#Your function should take arguments p (pattern), t (text) and should return the edit distance\n",
    "#of the match between P and T with the fewest edits."
   ]
  },
  {
   "cell_type": "code",
   "execution_count": null,
   "id": "0f222740",
   "metadata": {},
   "outputs": [],
   "source": [
    "def editDistance(x, y):\n",
    "    # Create distance matrix\n",
    "    D = []\n",
    "    for i in range(len(x)+1):\n",
    "        D.append([0]*(len(y)+1))\n",
    "    # Initialize first row and column of matrix\n",
    "    for i in range(len(x)+1):\n",
    "        D[i][0] = i\n",
    "    for i in range(len(y)+1):\n",
    "        D[0][i] = i\n",
    "    # Fill in the rest of the matrix\n",
    "    for i in range(1, len(x)+1):\n",
    "        for j in range(1, len(y)+1):\n",
    "            distHor = D[i][j-1] + 1\n",
    "            distVer = D[i-1][j] + 1\n",
    "            if x[i-1] == y[j-1]:\n",
    "                distDiag = D[i-1][j-1]\n",
    "            else:\n",
    "                distDiag = D[i-1][j-1] + 1\n",
    "            D[i][j] = min(distHor, distVer, distDiag)\n",
    "    # Edit distance is the value in the bottom right corner of the matrix\n",
    "    return D[-1][-1]"
   ]
  },
  {
   "cell_type": "code",
   "execution_count": null,
   "id": "e1528ba7",
   "metadata": {},
   "outputs": [],
   "source": [
    "#Hint: In the \"A new solution to approximate matching\" video we saw that the best approximate\n",
    "#match of P =GCGTATGCwithin T =TATTGGCTATACGGTThad 2 edits.\n",
    "#You can use this and other small examples to double-check that your function is working."
   ]
  },
  {
   "cell_type": "code",
   "execution_count": null,
   "id": "74d2e1e0",
   "metadata": {},
   "outputs": [],
   "source": [
    "#Adapt the editDistance function we saw in practical (copied below) to answer questions 1 and 2 below.\n",
    "#Your function should take arguments p (pattern), t (text) and should return the edit distance of the match between\n",
    "#P and T with the fewest edits."
   ]
  },
  {
   "cell_type": "code",
   "execution_count": null,
   "id": "86ca9c13",
   "metadata": {},
   "outputs": [],
   "source": [
    "def editDistance(x, y):\n",
    "    # Create distance matrix\n",
    "    D = []\n",
    "    for i in range(len(x)+1):\n",
    "        D.append([0]*(len(y)+1))\n",
    "    # Initialize first row and column of matrix\n",
    "    for i in range(len(x)+1):\n",
    "        D[i][0] = i\n",
    "    for i in range(len(y)+1):\n",
    "        D[0][i] = i\n",
    "    # Fill in the rest of the matrix\n",
    "    for i in range(1, len(x)+1):\n",
    "        for j in range(1, len(y)+1):\n",
    "            distHor = D[i][j-1] + 1\n",
    "            distVer = D[i-1][j] + 1\n",
    "            if x[i-1] == y[j-1]:\n",
    "                distDiag = D[i-1][j-1]\n",
    "            else:\n",
    "                distDiag = D[i-1][j-1] + 1\n",
    "            D[i][j] = min(distHor, distVer, distDiag)\n",
    "    # Edit distance is the value in the bottom right corner of the matrix\n",
    "    return D[-1][-1]"
   ]
  },
  {
   "cell_type": "code",
   "execution_count": null,
   "id": "4214967c",
   "metadata": {},
   "outputs": [],
   "source": [
    "#Q1. What is the edit distance of the best match between pattern GCTGATCGATCGTACG and the excerpt of human chromosome 1?\n",
    "\n",
    "#Q2. What is the edit distance of the best match between pattern GATTTACCAGATTGAG and the excerpt of human chromosome 1?"
   ]
  },
  {
   "cell_type": "code",
   "execution_count": null,
   "id": "21408e32",
   "metadata": {},
   "outputs": [],
   "source": [
    "def readGenome(filename):\n",
    "    genome = ''\n",
    "    with open(filename, 'r') as f:\n",
    "        for line in f:\n",
    "            # ignore header line with genome information\n",
    "            if not line[0] == '>':\n",
    "                genome += line.rstrip()\n",
    "    return genome"
   ]
  },
  {
   "cell_type": "code",
   "execution_count": null,
   "id": "e8d0ac16",
   "metadata": {},
   "outputs": [],
   "source": [
    "genome_filename = 'chr1.GRCh38.excerpt.fasta'\n",
    "\n",
    "t = readGenome(genome_filename)\n",
    "\n",
    "# Question1\n",
    "p = 'GCTGATCGATCGTACG'\n",
    "print(editDistance(t, p))"
   ]
  },
  {
   "cell_type": "code",
   "execution_count": null,
   "id": "2b37e556",
   "metadata": {},
   "outputs": [],
   "source": [
    "# Question2\n",
    "p = 'GATTTACCAGATTGAG'\n",
    "print(editDistance(t, p))"
   ]
  },
  {
   "cell_type": "code",
   "execution_count": null,
   "id": "878078ce",
   "metadata": {},
   "outputs": [],
   "source": [
    "#Find all pairs of reads with an exact suffix/prefix match of length at least 30.\n",
    "#Don't overlap a read with itself; if a read has a suffix/prefix match to itself, ignore that match.\n",
    "#Picture the overlap graph corresponding to the overlaps just calculated.\n",
    "\n",
    "#Q3. How many edges are in the graph? In other words, how many distinct pairs of reads overlap?"
   ]
  },
  {
   "cell_type": "code",
   "execution_count": null,
   "id": "1f1dbb73",
   "metadata": {},
   "outputs": [],
   "source": [
    "def readFastq(filename):\n",
    "    sequences = []\n",
    "    qualities = []\n",
    "    with open(filename) as fh:\n",
    "        while True:\n",
    "            fh.readline()  # skip name line\n",
    "            seq = fh.readline().rstrip()  # read base sequence\n",
    "            fh.readline()  # skip placeholder line\n",
    "            qual = fh.readline().rstrip() # base quality line\n",
    "            if len(seq) == 0:\n",
    "                break\n",
    "            sequences.append(seq)\n",
    "            qualities.append(qual)\n",
    "    return sequences, qualities\n",
    "\n",
    "\n",
    "def overlap(a, b, min_length=3):\n",
    "    \"\"\" Return length of longest suffix of 'a' matching\n",
    "        a prefix of 'b' that is at least 'min_length'\n",
    "        characters long.  If no such overlap exists,\n",
    "        return 0. \"\"\"\n",
    "    start = 0  # start all the way at the left\n",
    "    while True:\n",
    "        start = a.find(b[:min_length], start)  # look for b's prefix in a\n",
    "        if start == -1:  # no more occurrences to right\n",
    "            return 0\n",
    "        # found occurrence; check for full suffix/prefix match\n",
    "        if b.startswith(a[start:]):\n",
    "            return len(a)-start\n",
    "        start += 1  # move just past previous match\n",
    "\n",
    "\n",
    "def smart_overlap_map(reads, k):\n",
    "    olaps = {}\n",
    "    result = {}\n",
    "    for read in reads:\n",
    "        for i in range(len(read)-k+1):\n",
    "            if read[i:i+k] not in olaps:\n",
    "                olaps[read[i:i+k]] = [read]\n",
    "            else:\n",
    "                olaps[read[i:i+k]].append(read)\n",
    "\n",
    "    count = 0\n",
    "    for read in reads:\n",
    "        read_suffix = read[-k:]\n",
    "        for possible_read in olaps[read_suffix]:\n",
    "            if possible_read != read:\n",
    "                olen = overlap(read, possible_read, k)\n",
    "                if olen > 0:\n",
    "                    count += 1\n",
    "                    result[(read, possible_read)] = olen\n",
    "\n",
    "    return result, count"
   ]
  },
  {
   "cell_type": "code",
   "execution_count": null,
   "id": "d3f13734",
   "metadata": {},
   "outputs": [],
   "source": [
    "reads_filename = 'ERR266411_1.for_asm.fastq'\n",
    "reads, _ = readFastq(reads_filename)\n",
    "pairs_olen, pairs_count = smart_overlap_map(reads, 30)\n",
    "\n",
    "# Question 3\n",
    "print(\"Number of pairs of reads overlap:\", pairs_count)"
   ]
  },
  {
   "cell_type": "code",
   "execution_count": null,
   "id": "cc963c9e",
   "metadata": {},
   "outputs": [],
   "source": [
    "# Question 4\n",
    "reads_involved = []\n",
    "for key, value in pairs_olen:\n",
    "    reads_involved.append(key)\n",
    "print(\"Number of reads have a suffix involved in an overlap:\", len(set(reads_involved)))"
   ]
  }
 ],
 "metadata": {
  "kernelspec": {
   "display_name": "Python 3",
   "language": "python",
   "name": "python3"
  },
  "language_info": {
   "codemirror_mode": {
    "name": "ipython",
    "version": 3
   },
   "file_extension": ".py",
   "mimetype": "text/x-python",
   "name": "python",
   "nbconvert_exporter": "python",
   "pygments_lexer": "ipython3",
   "version": "3.8.8"
  }
 },
 "nbformat": 4,
 "nbformat_minor": 5
}
