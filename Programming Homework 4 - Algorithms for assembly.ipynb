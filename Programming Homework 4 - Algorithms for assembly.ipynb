{
 "cells": [
  {
   "cell_type": "code",
   "execution_count": 1,
   "id": "1842b492",
   "metadata": {},
   "outputs": [],
   "source": [
    "#In a practical, we saw the \\verb|scs|scs function (copied below along with \\verb|overlap|overlap)\n",
    "#for finding the shortest common superstring of a set of strings.\n",
    "\n",
    "def overlap(a, b, min_length=3):\n",
    "    \"\"\" Return length of longest suffix of 'a' matching\n",
    "        a prefix of 'b' that is at least 'min_length'\n",
    "        characters long.  If no such overlap exists,\n",
    "        return 0. \"\"\"\n",
    "    start = 0  # start all the way at the left\n",
    "    while True:\n",
    "        start = a.find(b[:min_length], start)  # look for b's suffx in a\n",
    "        if start == -1:  # no more occurrences to right\n",
    "            return 0\n",
    "        # found occurrence; check for full suffix/prefix match\n",
    "        if b.startswith(a[start:]):\n",
    "            return len(a)-start\n",
    "        start += 1  # move just past previous match\n",
    "\n",
    "import itertools\n",
    "\n",
    "def scs(ss):\n",
    "    \"\"\" Returns shortest common superstring of given\n",
    "        strings, which must be the same length \"\"\"\n",
    "    shortest_sup = None\n",
    "    for ssperm in itertools.permutations(ss):\n",
    "        sup = ssperm[0]  # superstring starts as first string\n",
    "        for i in range(len(ss)-1):\n",
    "            # overlap adjacent strings A and B in the permutation\n",
    "            olen = overlap(ssperm[i], ssperm[i+1], min_length=1)\n",
    "            # add non-overlapping portion of B to superstring\n",
    "            sup += ssperm[i+1][olen:]\n",
    "        if shortest_sup is None or len(sup) < len(shortest_sup):\n",
    "            shortest_sup = sup  # found shorter superstring\n",
    "    return shortest_sup  # return shortest"
   ]
  },
  {
   "cell_type": "code",
   "execution_count": 2,
   "id": "8475be43",
   "metadata": {},
   "outputs": [
    {
     "ename": "SyntaxError",
     "evalue": "invalid character in identifier (<ipython-input-2-1bef6c9709fe>, line 14)",
     "output_type": "error",
     "traceback": [
      "\u001b[1;36m  File \u001b[1;32m\"<ipython-input-2-1bef6c9709fe>\"\u001b[1;36m, line \u001b[1;32m14\u001b[0m\n\u001b[1;33m    …    return shortest_sup  # return shortest\u001b[0m\n\u001b[1;37m    ^\u001b[0m\n\u001b[1;31mSyntaxError\u001b[0m\u001b[1;31m:\u001b[0m invalid character in identifier\n"
     ]
    }
   ],
   "source": [
    "#1. In a practical, we saw the \\verb|scs|scs function (copied below along with \\verb|overlap|overlap)\n",
    "#for finding the shortest common superstring of a set of strings.\n",
    "\n",
    "def overlap(a, b, min_length=3):\n",
    "    \"\"\" Return length of longest suffix of 'a' matching\n",
    "        a prefix of 'b' that is at least 'min_length'\n",
    "        characters long.  If no such overlap exists,\n",
    "        return 0. \"\"\"\n",
    "    start = 0  # start all the way at the left\n",
    "    while True:\n",
    "        start = a.find(b[:min_length], start)  # look for b's suffx in a\n",
    "        if start == -1:  # no more occurrences to right\n",
    "            return 0\n",
    "…    return shortest_sup  # return shortest\n",
    "\n",
    "#It's possible for there to be multiple different shortest common superstrings for the same set of input strings.\n",
    "#Consider the input strings \\verb|ABC|ABC, \\verb|BCA|BCA, \\verb|CAB|CAB. One shortest common superstring\n",
    "#is \\verb|ABCAB|ABCAB but another is \\verb|BCABC|BCABC and another is \\verb|CABCA|CABCA.\n",
    "\n",
    "#What is the length of the shortest common superstring of the following strings?\n",
    "\n",
    "#\\verb|CCT|CCT, \\verb|CTT|CTT, \\verb|TGC|TGC, \\verb|TGG|TGG, \\verb|GAT|GAT, \\verb|ATT|ATT"
   ]
  },
  {
   "cell_type": "code",
   "execution_count": null,
   "id": "71f2f24c",
   "metadata": {},
   "outputs": [],
   "source": [
    "#2. How many different shortest common superstrings are there for the input strings given in the previous question?\n",
    "\n",
    "#Hint 1: You can modify the \\verb|scs|scs function to keep track of this. \n",
    "\n",
    "#Hint 2: You can look at these examples to double-check that your modified \\verb|scs|scs is working as expected. "
   ]
  },
  {
   "cell_type": "code",
   "execution_count": null,
   "id": "a991fdca",
   "metadata": {},
   "outputs": [],
   "source": [
    "def revised_scs(ss):\n",
    "    \"\"\" Returns shortest common superstring of given\n",
    "        strings, which must be the same length \"\"\"\n",
    "    shortest_sup = []\n",
    "    for ssperm in itertools.permutations(ss):\n",
    "        sup = ssperm[0]  # superstring starts as first string\n",
    "        for i in range(len(ss)-1):\n",
    "            # overlap adjacent strings A and B in the permutation\n",
    "            olen = overlap(ssperm[i], ssperm[i+1], min_length=1)\n",
    "            # add non-overlapping portion of B to superstring\n",
    "            sup += ssperm[i+1][olen:]\n",
    "        shortest_sup.append(sup)  # found shorter superstring\n",
    "    shortest_len = len(ss) * len(ss[0])\n",
    "    for sup in shortest_sup:\n",
    "        if len(sup) <= shortest_len:\n",
    "            shortest_len = len(sup)\n",
    "    shortest_sup = [sup for sup in shortest_sup if len(sup) == shortest_len]\n",
    "    return list(set(shortest_sup))  # return shortest"
   ]
  },
  {
   "cell_type": "code",
   "execution_count": null,
   "id": "01f0780e",
   "metadata": {},
   "outputs": [],
   "source": [
    "# Question 1, 2\n",
    "shortest_sup_list = revised_scs(['CCT', 'CTT', 'TGC', 'TGG', 'GAT', 'ATT'])\n",
    "print(\"Length of the shortest common superstring:\", len(shortest_sup_list[0]))\n",
    "print(\"Number of different shortest common superstrings:\", len(shortest_sup_list))"
   ]
  },
  {
   "cell_type": "code",
   "execution_count": null,
   "id": "c04e5965",
   "metadata": {},
   "outputs": [],
   "source": [
    "#Length of the shortest common superstring: 11\n",
    "#Number of different shortest common superstrings: 4\n",
    "#Assemble reads using one of the approaches discussed, such as greedy shortest common superstring.\n",
    "#Since there are many reads, you might consider ways to make the algorithm faster,\n",
    "#such as the one discussed in the programming assignment in the previous module."
   ]
  },
  {
   "cell_type": "code",
   "execution_count": null,
   "id": "3a43b139",
   "metadata": {},
   "outputs": [],
   "source": [
    "#3. Download this FASTQ file containing synthetic sequencing reads from a mystery virus:\n",
    "\n",
    "#https://d28rh4a8wq0iu5.cloudfront.net/ads1/data/ads1_week4_reads.fq\n",
    "\n",
    "#All the reads are the same length (100 bases) and are exact copies of substrings from the forward strand of the virus genome.\n",
    "#You don't have to worry about sequencing errors, ploidy, or reads coming from the reverse strand.\n",
    "\n",
    "#Assemble these reads using one of the approaches discussed, such as greedy shortest common superstring.\n",
    "#Since there are many reads, you might consider ways to make the algorithm faster, such as the one discussed in the\n",
    "#programming assignment in the previous module.\n",
    "\n",
    "#How many As are there in the full, assembled genome?\n",
    "\n",
    "#Hint: the virus genome you are assembling is exactly 15,894 bases long"
   ]
  },
  {
   "cell_type": "code",
   "execution_count": null,
   "id": "b708ed42",
   "metadata": {},
   "outputs": [],
   "source": [
    "#4. How many Ts are there in the full, assembled genome from the previous question?"
   ]
  },
  {
   "cell_type": "code",
   "execution_count": null,
   "id": "08332d92",
   "metadata": {},
   "outputs": [],
   "source": [
    "import operator\n",
    "\n",
    "\n",
    "def readFastq(filename):\n",
    "    sequences = []\n",
    "    qualities = []\n",
    "    with open(filename) as fh:\n",
    "        while True:\n",
    "            fh.readline()  # skip name line\n",
    "            seq = fh.readline().rstrip()  # read base sequence\n",
    "            fh.readline()  # skip placeholder line\n",
    "            qual = fh.readline().rstrip() # base quality line\n",
    "            if len(seq) == 0:\n",
    "                break\n",
    "            sequences.append(seq)\n",
    "            qualities.append(qual)\n",
    "    return sequences, qualities\n",
    "\n",
    "\n",
    "def smart_overlap_map(reads, k):\n",
    "    olaps = {}\n",
    "    result = {}\n",
    "    for read in reads:\n",
    "        for i in range(len(read)-k+1):\n",
    "            if read[i:i+k] not in olaps:\n",
    "                olaps[read[i:i+k]] = [read]\n",
    "            else:\n",
    "                olaps[read[i:i+k]].append(read)\n",
    "\n",
    "    count = 0\n",
    "    for read in reads:\n",
    "        read_suffix = read[-k:]\n",
    "        for possible_read in olaps[read_suffix]:\n",
    "            if possible_read != read:\n",
    "                olen = overlap(read, possible_read, k)\n",
    "                if olen > 0:\n",
    "                    count += 1\n",
    "                    result[(read, possible_read)] = olen\n",
    "\n",
    "    return result, count\n",
    "\n",
    "\n",
    "def pick_maximal_overlap(reads, k):\n",
    "    \"\"\" Return a pair of reads from the list with a\n",
    "        maximal suffix/prefix overlap >= k.  Returns\n",
    "        overlap length 0 if there are no such overlaps.\"\"\"\n",
    "    reada, readb = None, None\n",
    "    best_olen = 0\n",
    "    for a, b in itertools.permutations(reads, 2):\n",
    "        olen = overlap(a, b, min_length=k)\n",
    "        if olen > best_olen:\n",
    "            reada, readb = a, b\n",
    "            best_olen = olen\n",
    "    return reada, readb, best_olen\n",
    "\n",
    "\n",
    "def smart_greedy_scs(reads, k):\n",
    "    \"\"\" Greedy shortest-common-superstring merge.\n",
    "        Repeat until no edges (overlaps of length >= k)\n",
    "        remain. \"\"\"\n",
    "    pairs_olen, pairs_count = smart_overlap_map(reads, k)\n",
    "    sorted_pairs_olen = sorted(pairs_olen.items(), key=operator.itemgetter(1), reverse=True)\n",
    "    read_a, read_b, olen = sorted_pairs_olen[0][0][0], sorted_pairs_olen[0][0][1], sorted_pairs_olen[0][1]\n",
    "    while olen > 0:\n",
    "        reads.remove(read_a)\n",
    "        reads.remove(read_b)\n",
    "        reads.append(read_a + read_b[olen:])\n",
    "        pairs_olen, pairs_count = smart_overlap_map(reads, k)\n",
    "        if pairs_olen != {}:\n",
    "            sorted_pairs_olen = sorted(pairs_olen.items(), key=operator.itemgetter(1), reverse=True)\n",
    "            read_a, read_b, olen = sorted_pairs_olen[0][0][0], sorted_pairs_olen[0][0][1], sorted_pairs_olen[0][1]\n",
    "        else:\n",
    "            read_a, read_b, olen = pick_maximal_overlap(reads, k)\n",
    "    return ''.join(reads)"
   ]
  },
  {
   "cell_type": "code",
   "execution_count": null,
   "id": "949e8ba9",
   "metadata": {},
   "outputs": [],
   "source": [
    "# Question 3, 4\n",
    "reads_filename = 'ads1_week4_reads.fastq'\n",
    "fastq_reads, _ = readFastq(reads_filename)\n",
    "\n",
    "genome = smart_greedy_scs(fastq_reads, 10)\n",
    "print(\"Number of As in the assembled genome:\", genome.count('A'))\n",
    "print(\"Number of Ts in the assembled genome:\", genome.count('T'))"
   ]
  },
  {
   "cell_type": "code",
   "execution_count": null,
   "id": "65aea60a",
   "metadata": {},
   "outputs": [],
   "source": [
    "#Number of As in the assembled genome: 4633\n",
    "#Number of Ts in the assembled genome: 3723"
   ]
  }
 ],
 "metadata": {
  "kernelspec": {
   "display_name": "Python 3",
   "language": "python",
   "name": "python3"
  },
  "language_info": {
   "codemirror_mode": {
    "name": "ipython",
    "version": 3
   },
   "file_extension": ".py",
   "mimetype": "text/x-python",
   "name": "python",
   "nbconvert_exporter": "python",
   "pygments_lexer": "ipython3",
   "version": "3.8.8"
  }
 },
 "nbformat": 4,
 "nbformat_minor": 5
}
