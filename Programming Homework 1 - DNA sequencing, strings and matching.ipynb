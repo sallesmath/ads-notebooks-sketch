{
 "cells": [
  {
   "cell_type": "code",
   "execution_count": null,
   "id": "3b52d4b4",
   "metadata": {},
   "outputs": [],
   "source": [
    "#In lecture and in a practical, we saw an implementation of the naive exact matching algorithm:\n",
    "\n",
    "def naive(p, t):\n",
    "    occurrences = []\n",
    "    for i in range(len(t) - len(p) + 1):  # loop over alignments\n",
    "        match = True\n",
    "        for j in range(len(p)):  # loop over characters\n",
    "            if t[i+j] != p[j]:  # compare characters\n",
    "                match = False\n",
    "                break\n",
    "        if match:\n",
    "            occurrences.append(i)  # all chars matched; record\n",
    "    return occurrences"
   ]
  },
  {
   "cell_type": "code",
   "execution_count": null,
   "id": "4a76f37c",
   "metadata": {},
   "outputs": [],
   "source": [
    "#and we saw a function that takes a DNA string and returns its reverse complement:\n",
    "\n",
    "def reverseComplement(s):\n",
    "    complement = {'A': 'T', 'C': 'G', 'G': 'C', 'T': 'A', 'N': 'N'}\n",
    "    t = ''\n",
    "    for base in s:\n",
    "        t = complement[base] + t\n",
    "    return t"
   ]
  },
  {
   "cell_type": "code",
   "execution_count": null,
   "id": "9b7ab731",
   "metadata": {},
   "outputs": [],
   "source": [
    "#and we saw a function that parses a DNA reference genome from a file in the FASTA format\n",
    "\n",
    "def readGenome(filename):\n",
    "    genome = ''\n",
    "    with open(filename, 'r') as f:\n",
    "        for line in f:\n",
    "            # ignore header line with genome information\n",
    "            if not line[0] == '>':\n",
    "                genome += line.rstrip()\n",
    "    return genome"
   ]
  },
  {
   "cell_type": "code",
   "execution_count": null,
   "id": "d97e4ac0",
   "metadata": {},
   "outputs": [],
   "source": [
    "#and we saw a function that parses the read and quality strings from a FASTQ file containing sequencing reads.\n",
    "\n",
    "def readFastq(filename):\n",
    "    sequences = []\n",
    "    qualities = []\n",
    "    with open(filename) as fh:\n",
    "        while True:\n",
    "            fh.readline()  # skip name line\n",
    "            seq = fh.readline().rstrip()  # read base sequence\n",
    "            fh.readline()  # skip placeholder line\n",
    "            qual = fh.readline().rstrip() # base quality line\n",
    "            if len(seq) == 0:\n",
    "                break\n",
    "            sequences.append(seq)\n",
    "            qualities.append(qual)\n",
    "    return sequences, qualities"
   ]
  },
  {
   "cell_type": "code",
   "execution_count": null,
   "id": "fb687b2e",
   "metadata": {},
   "outputs": [],
   "source": [
    "#First, implement a version of the naive exact matching algorithm that is strand-aware.\n",
    "#That is, instead of looking only for occurrences of P in T, additionally look for occurrences of the\n",
    "#reverse complement of P in T.\n",
    "#If P is ACT, your function should find occurrences of both ACTand its reverse complement AGT in T.\n",
    "\n",
    "#If P and its reverse complement are identical (e.g. AACGTT),\n",
    "#then a given match offset should be reported only once.\n",
    "#So if your new function is called naive_with_rc, then the old naivefunction and your new naive_with_rc\n",
    "#function should return the same results when P equals its reverse complement.\n",
    "\n",
    "#Hint: See this notebook for a few examples you can use to test your naive_with_rc function.\n",
    "\n",
    "#Next, download and parse the lambda virus genome, at: https://d28rh4a8wq0iu5.cloudfront.net/ads1/data/lambda_virus.fa"
   ]
  },
  {
   "cell_type": "code",
   "execution_count": null,
   "id": "9e25e67a",
   "metadata": {},
   "outputs": [],
   "source": [
    "#Implement a version of the naive exact matching algorithm that is strand-aware.\n",
    "#That is, instead of looking only for occurrences of P in T, additionally look for occurrences of the\n",
    "#reverse complement of P in T. If P and its reverse complement are identical (e.g. AACGTT),\n",
    "#then a given match offset should be reported only once.\n",
    "\n",
    "#Q1. How many times does AGGT or its reverse complement ACCT occur in the lambda virus genome?\n",
    "#E.g. if AGGT occurs 10 times and ACCT occurs 12 times, you should report 22.\n",
    "\n",
    "#Q2. How many times does TTAA or its reverse complement occur in the lambda virus genome?\n",
    "#Hint: TTAA and its reverse complement are equal, so remember not to double count.\n",
    "\n",
    "#Q3. What is the offset of the leftmost occurrence of ACTAAGT or its reverse complement in the Lambda virus genome?\n",
    "#E.g. if the leftmost occurrence of ACTAAGT is at offset 40 (0-based)\n",
    "#and the leftmost occurrence of its reverse complement ACTTAGT is at offset 29, then report 29.\n",
    "\n",
    "#Q4. What is the offset of the leftmost occurrence of AGTCGA or its reverse complement in the Lambda virus genome?"
   ]
  },
  {
   "cell_type": "code",
   "execution_count": null,
   "id": "bd3295f3",
   "metadata": {},
   "outputs": [],
   "source": [
    "import os\n",
    "import matplotlib.pyplot as plt\n",
    "\n",
    "\n",
    "def readGenome(filename):\n",
    "    genome = ''\n",
    "    with open(filename, 'r') as f:\n",
    "        for line in f:\n",
    "            # ignore header line with genome information\n",
    "            if not line[0] == '>':\n",
    "                genome += line.rstrip()\n",
    "    return genome\n",
    "\n",
    "\n",
    "def reverseComplement(s):\n",
    "    complement = {'A': 'T', 'C': 'G', 'G': 'C', 'T': 'A', 'N': 'N'}\n",
    "    t = ''\n",
    "    for base in s:\n",
    "        t = complement[base] + t\n",
    "    return t\n",
    "\n",
    "\n",
    "def naive_with_rc(p, t):\n",
    "    p_rev = reverseComplement(p)\n",
    "    occurrences = []\n",
    "    for i in range(len(t) - len(p) + 1):  # loop over alignments\n",
    "        match = True\n",
    "        for j in range(len(p)):  # loop over characters\n",
    "            if t[i+j] != p[j]:  # compare characters\n",
    "                match = False\n",
    "                break\n",
    "        if not match:\n",
    "            match = True\n",
    "            for j in range(len(p)):  # loop over characters\n",
    "                if t[i + j] != p_rev[j]:  # compare characters\n",
    "                    match = False\n",
    "                    break\n",
    "        if match:\n",
    "            occurrences.append(i)  # all chars matched; record\n",
    "    return occurrences"
   ]
  },
  {
   "cell_type": "code",
   "execution_count": null,
   "id": "8be38510",
   "metadata": {},
   "outputs": [],
   "source": [
    "genome_file = 'lambda_virus.fa'\n",
    "genome = readGenome(genome_file)\n",
    "\n",
    "# Question1\n",
    "print(len(naive_with_rc('AGGT', genome)))"
   ]
  },
  {
   "cell_type": "code",
   "execution_count": null,
   "id": "693905d3",
   "metadata": {},
   "outputs": [],
   "source": [
    "# Question2\n",
    "print(len(naive_with_rc('TTAA', genome)))"
   ]
  },
  {
   "cell_type": "code",
   "execution_count": null,
   "id": "8d8de9a4",
   "metadata": {},
   "outputs": [],
   "source": [
    "# Question3\n",
    "print(min(naive_with_rc('ACTAAGT', genome)))"
   ]
  },
  {
   "cell_type": "code",
   "execution_count": null,
   "id": "933e579d",
   "metadata": {},
   "outputs": [],
   "source": [
    "# Question4\n",
    "print(min(naive_with_rc('AGTCGA', genome)))"
   ]
  },
  {
   "cell_type": "code",
   "execution_count": null,
   "id": "0b2c4cc8",
   "metadata": {},
   "outputs": [],
   "source": [
    "#Q5. Make a new version of the naive function called naive_2mm that allows up to 2 mismatches per occurrence.\n",
    "#Unlike for the previous questions, do not consider the reverse complement here.\n",
    "#How many times does TTCAAGCC occur in the Lambda virus genome when allowing up to 2 mismatches?\n",
    "\n",
    "#Q6. What is the offset of the leftmost occurrence of AGGAGGTT in the Lambda virus genome when allowing up to 2 mismatches?"
   ]
  },
  {
   "cell_type": "code",
   "execution_count": null,
   "id": "f8d41d07",
   "metadata": {},
   "outputs": [],
   "source": [
    "def naive_2mm(p, t):\n",
    "    occurrences = []\n",
    "    for i in range(len(t) - len(p) + 1):  # loop over alignments\n",
    "        count_mismatch = 0\n",
    "        for j in range(len(p)):  # loop over characters\n",
    "            if t[i+j] != p[j]:  # compare characters\n",
    "                count_mismatch += 1\n",
    "        if count_mismatch <= 2:\n",
    "            occurrences.append(i)  # all chars matched; record\n",
    "    return occurrences"
   ]
  },
  {
   "cell_type": "code",
   "execution_count": null,
   "id": "4bbb4bea",
   "metadata": {},
   "outputs": [],
   "source": [
    "# Question5\n",
    "print(len(naive_2mm('TTCAAGCC', genome)))"
   ]
  },
  {
   "cell_type": "code",
   "execution_count": null,
   "id": "c12ea30a",
   "metadata": {},
   "outputs": [],
   "source": [
    "# Question6\n",
    "print(min(naive_2mm('AGGAGGTT', genome)))"
   ]
  },
  {
   "cell_type": "code",
   "execution_count": null,
   "id": "e8d1d122",
   "metadata": {},
   "outputs": [],
   "source": [
    "#Q7. Report which sequencing cycle has the problem.\n",
    "#Remember that a sequencing cycle corresponds to a particular offset in all the reads."
   ]
  },
  {
   "cell_type": "code",
   "execution_count": null,
   "id": "6142e023",
   "metadata": {},
   "outputs": [],
   "source": [
    "def readFastq(filename):\n",
    "    sequences = []\n",
    "    qualities = []\n",
    "    with open(filename) as fh:\n",
    "        while True:\n",
    "            fh.readline()  # skip name line\n",
    "            seq = fh.readline().rstrip()  # read base sequence\n",
    "            fh.readline()  # skip placeholder line\n",
    "            qual = fh.readline().rstrip() # base quality line\n",
    "            if len(seq) == 0:\n",
    "                break\n",
    "            sequences.append(seq)\n",
    "            qualities.append(qual)\n",
    "    return sequences, qualities\n",
    "\n",
    "\n",
    "def phred33ToQ(qual):\n",
    "    return ord(qual) - 33\n",
    "\n",
    "\n",
    "def createHist(qualities):\n",
    "    # Create a histogram of quality scores\n",
    "    hist = [0]*len(qualities[0])\n",
    "    for qual in qualities:\n",
    "        for i in range(len(qual)):\n",
    "            q = phred33ToQ(qual[i])\n",
    "            hist[i] += q\n",
    "    return hist"
   ]
  },
  {
   "cell_type": "code",
   "execution_count": null,
   "id": "22e930b9",
   "metadata": {},
   "outputs": [],
   "source": [
    "%matplotlib inline\n",
    "reads_file = 'ERR037900_1.first1000.fastq'\n",
    "_, quals = readFastq(reads_file)\n",
    "qual_hist = createHist(quals)\n",
    "plt.plot(range(len(qual_hist)), qual_hist)\n",
    "plt.show()"
   ]
  }
 ],
 "metadata": {
  "kernelspec": {
   "display_name": "Python 3",
   "language": "python",
   "name": "python3"
  },
  "language_info": {
   "codemirror_mode": {
    "name": "ipython",
    "version": 3
   },
   "file_extension": ".py",
   "mimetype": "text/x-python",
   "name": "python",
   "nbconvert_exporter": "python",
   "pygments_lexer": "ipython3",
   "version": "3.8.8"
  }
 },
 "nbformat": 4,
 "nbformat_minor": 5
}
